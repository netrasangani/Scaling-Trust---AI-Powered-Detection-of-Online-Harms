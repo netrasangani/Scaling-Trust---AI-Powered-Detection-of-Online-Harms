{
  "nbformat": 4,
  "nbformat_minor": 0,
  "metadata": {
    "colab": {
      "provenance": [],
      "authorship_tag": "ABX9TyPzyPcgW2oF24Qss9kFf8C+",
      "include_colab_link": true
    },
    "kernelspec": {
      "name": "python3",
      "display_name": "Python 3"
    },
    "language_info": {
      "name": "python"
    }
  },
  "cells": [
    {
      "cell_type": "markdown",
      "metadata": {
        "id": "view-in-github",
        "colab_type": "text"
      },
      "source": [
        "<a href=\"https://colab.research.google.com/github/netrasangani/Scaling-Trust---AI-Powered-Detection-of-Online-Harms/blob/main/Online_Harms.ipynb\" target=\"_parent\"><img src=\"https://colab.research.google.com/assets/colab-badge.svg\" alt=\"Open In Colab\"/></a>"
      ]
    },
    {
      "cell_type": "code",
      "source": [
        "from transformers import pipeline\n",
        "\n",
        "# Load sarcasm detection model\n",
        "sarcasm_pipe = pipeline(\"text-classification\", model=\"jkhan447/sarcasm-detection-Bert-base-uncased-newdata\")\n",
        "\n",
        "# Load harmful content detection model\n",
        "harm_pipe = pipeline(\"text-classification\", model=\"unitary/toxic-bert\")\n",
        "\n",
        "# Function to detect sarcasm\n",
        "def detect_sarcasm(text):\n",
        "    result = sarcasm_pipe(text)\n",
        "    return \"Sarcasm detected!\" if result[0]['label'] == 'LABEL_1' else \"No sarcasm detected.\"\n",
        "\n",
        "# Function to detect harmful content\n",
        "def detect_harm(text):\n",
        "    result = harm_pipe(text)\n",
        "    return \"Harmful content detected!\" if result[0]['label'] == 'toxic' else \"No harmful content detected.\"\n",
        "\n",
        "# Function to analyze chat text\n",
        "def analyze_chat(chat):\n",
        "    if not chat.strip():\n",
        "        return \"No text detected.\"\n",
        "\n",
        "    sentences = chat.split(\"\\n\")\n",
        "    results = []\n",
        "    for message in sentences:\n",
        "        if message.strip():  # Ignore empty lines\n",
        "            sarcasm_result = detect_sarcasm(message)\n",
        "            harm_result = detect_harm(message)\n",
        "            results.append(f\"Sentence: {message}\\n{sarcasm_result}\\n{harm_result}\\n\")\n",
        "\n",
        "    return \"\\n\".join(results)\n",
        "\n",
        "# Get user input line by line\n",
        "chat_lines = []\n",
        "print(\"Enter your chat messages (type 'done' when finished):\")\n",
        "while True:\n",
        "    line = input()\n",
        "    if line.lower() == \"done\":\n",
        "        break\n",
        "    chat_lines.append(line)\n",
        "\n",
        "chat_text = \"\\n\".join(chat_lines)\n",
        "print(analyze_chat(chat_text))"
      ],
      "metadata": {
        "colab": {
          "base_uri": "https://localhost:8080/"
        },
        "id": "VZSYVSAd9gW1",
        "outputId": "5e2010fc-cf0a-4f28-be17-9b129eecf944"
      },
      "execution_count": 5,
      "outputs": [
        {
          "output_type": "stream",
          "name": "stderr",
          "text": [
            "Device set to use cpu\n",
            "Device set to use cpu\n"
          ]
        },
        {
          "output_type": "stream",
          "name": "stdout",
          "text": [
            "Enter your chat messages (type 'done' when finished):\n",
            "You think you look good ?\n",
            "done\n",
            "Sentence: You think you look good ?\n",
            "No sarcasm detected.\n",
            "Harmful content detected!\n",
            "\n"
          ]
        }
      ]
    }
  ]
}